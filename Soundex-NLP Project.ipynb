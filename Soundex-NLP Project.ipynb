{
 "cells": [
  {
   "cell_type": "markdown",
   "metadata": {},
   "source": [
    "## Introduction\n",
    "This short project covers an NLP task on soundex, a phonetic algorithm that adds 1-letter plus 3-digit code to strings. The algorithm is used to assign identitical codes to strings that are pronounced the same but spelled differently including words that are pronounced similarily."
   ]
  },
  {
   "cell_type": "markdown",
   "metadata": {},
   "source": [
    "## Problem Definition and Algorithm\n",
    "The main problem addressed in this project is how to write a soundex algorithm."
   ]
  },
  {
   "cell_type": "markdown",
   "metadata": {},
   "source": [
    "## Methodology \n",
    "The soundex algorithm is written such that it converts input string to 4 or more characters output. This can be compared to soundex value. The steps below indicate how the soundex algorithm is written. The first letter in the string is saved and all other vowels (a,e,i,o, u, h, w) are removed. All consonants are removed and replaced with digits. This can be applied as such:\n",
    "b, f, p, v → 1\n",
    "c, g, j, k, q, s, x, z → 2\n",
    "d, t → 3\n",
    "l → 4\n",
    "m, n → 5\n",
    "r → 6\n",
    "After this is done, similar and adjacent digits are replaced with one digit.Replace all adjacent same digits with one digit. The next step in the soundex algorithm is then applied as such; If the saved letter’s digit is the same the resulting first digit, remove the digit (keep the letter). And lastly, append 3 zeros if result contains less than 3 digits. Remove all except first letter and 3 digits after it. The codes below, indicate how the algorithm is written and testing the algorithm on different words. "
   ]
  },
  {
   "cell_type": "code",
   "execution_count": 51,
   "metadata": {},
   "outputs": [],
   "source": [
    "# Writing a function for the Soundex\n",
    "\n",
    "def soundex(name):\n",
    "\n",
    "    soundexcoding = [' ', ' ', ' ', ' ']\n",
    "    soundexcodingindex = 1\n",
    "\n",
    "    #           ABCDEFGHIJKLMNOPQRSTUVWXYZ\n",
    "    mappings = \"01230120022455012623010202\"\n",
    "\n",
    "    soundexcoding[0] = name[0].upper()\n",
    "\n",
    "    for i in range(1, len(name)):\n",
    "\n",
    "         c = ord(name[i].upper()) - 65\n",
    "\n",
    "         if c >= 0 and c <= 25:\n",
    "\n",
    "             if mappings[c] != '0':\n",
    "\n",
    "                 if mappings[c] != soundexcoding[soundexcodingindex-1]:\n",
    "\n",
    "                     soundexcoding[soundexcodingindex] = mappings[c]\n",
    "                     soundexcodingindex += 1\n",
    "\n",
    "                 if soundexcodingindex > 3:\n",
    "\n",
    "                     break\n",
    "\n",
    "    if soundexcodingindex <= 3:\n",
    "        while(soundexcodingindex <= 3):\n",
    "            soundexcoding[soundexcodingindex] = '0'\n",
    "            soundexcodingindex += 1\n",
    "\n",
    "    return ''.join(soundexcoding)"
   ]
  },
  {
   "cell_type": "code",
   "execution_count": 58,
   "metadata": {},
   "outputs": [],
   "source": [
    "# Calling the function and to testing the soundex algorithm on two names; Francis and Frances. \n",
    "#These are two different English names that sound the the same.\n",
    "soundex(\"Francis\")"
   ]
  },
  {
   "cell_type": "code",
   "execution_count": 49,
   "metadata": {},
   "outputs": [],
   "source": [
    "# Testing the soundex algorithm on Frances. Notice that Francis and Frances have the same encoding \"F652\"\n",
    "soundex(\"Frances\")"
   ]
  },
  {
   "cell_type": "code",
   "execution_count": 55,
   "metadata": {},
   "outputs": [],
   "source": [
    "# Running the algorithm on Race and Raise\n",
    "soundex(\"Race\")"
   ]
  },
  {
   "cell_type": "code",
   "execution_count": 54,
   "metadata": {},
   "outputs": [],
   "source": [
    "# Running the algorithm on Raise\n",
    "soundex(\"Raise\")"
   ]
  },
  {
   "cell_type": "markdown",
   "metadata": {},
   "source": [
    "## Results\n",
    "Based on the codes above, English names such as \"Francis\" and \"Frances\", sounds the same but are spell differently. Running the names in the soundex algorithim, \"Francis\" and \"Frances\" have the same encodings-\"F652.\" The same holds true for \"Race\" and \"Raise\" in which algorithm encodes the two words as \"R200.\""
   ]
  },
  {
   "cell_type": "markdown",
   "metadata": {},
   "source": [
    "## Discussion\n",
    "Soundex is a phonetic algorithm and is based on how close two words are based on their English pronunciation. The soundex algorithm actually worked in encoding names that can be prounounced the same but spelt differently. The soundex algorithm encodes homophones to the same representation and does matching irrespective of the words being spelt differently.The algorithm starts of with saving the first letter in the word (as in the case of the word, Race used in the test example above) and convert the consonants into three numbers. "
   ]
  },
  {
   "cell_type": "markdown",
   "metadata": {},
   "source": [
    "## Conclusion and Recommendation\n",
    "Soundex algorithm deals with how close two English words are. The Levenshtein algorithm deals with two different written words. The soundex algorithm can be applied based on different use cases dealing with phonetic and encoding in data collection and in text database management. "
   ]
  },
  {
   "cell_type": "code",
   "execution_count": null,
   "metadata": {},
   "outputs": [],
   "source": []
  }
 ],
 "metadata": {
  "kernelspec": {
   "display_name": "Python 3",
   "language": "python",
   "name": "python3"
  },
  "language_info": {
   "codemirror_mode": {
    "name": "ipython",
    "version": 3
   },
   "file_extension": ".py",
   "mimetype": "text/x-python",
   "name": "python",
   "nbconvert_exporter": "python",
   "pygments_lexer": "ipython3",
   "version": "3.8.5"
  }
 },
 "nbformat": 4,
 "nbformat_minor": 4
}
